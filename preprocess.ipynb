{
 "cells": [
  {
   "cell_type": "code",
   "execution_count": 1,
   "metadata": {
    "collapsed": false
   },
   "outputs": [
    {
     "name": "stdout",
     "output_type": "stream",
     "text": [
      "\u001b[0m\u001b[00;38;5;244m\u001b[m\u001b[00;38;5;64mdefine_column.py\u001b[0m*            \u001b[00;38;5;244m\u001b[m\u001b[00;38;5;64mlrs_goldengate_EDA.ipynb\u001b[0m*  \u001b[00;38;5;244m\u001b[m\u001b[00;38;5;64mREADME.md\u001b[0m*\r\n",
      "\u001b[00;38;5;244m\u001b[m\u001b[00;38;5;64mlandsend_veg_2007_2012.csv\u001b[0m*  \u001b[00;38;5;244m\u001b[m\u001b[00;38;5;64mpreprocess.ipynb\u001b[0m*\r\n"
     ]
    }
   ],
   "source": [
    "%ls"
   ]
  },
  {
   "cell_type": "markdown",
   "metadata": {},
   "source": [
    "## first import packages needed"
   ]
  },
  {
   "cell_type": "code",
   "execution_count": 2,
   "metadata": {
    "collapsed": true
   },
   "outputs": [],
   "source": [
    "import pandas as pd\n",
    "import matplotlib.pyplot as plt\n",
    "%matplotlib inline"
   ]
  },
  {
   "cell_type": "code",
   "execution_count": 3,
   "metadata": {
    "collapsed": false,
    "scrolled": true
   },
   "outputs": [
    {
     "data": {
      "text/html": [
       "<div>\n",
       "<table border=\"1\" class=\"dataframe\">\n",
       "  <thead>\n",
       "    <tr style=\"text-align: right;\">\n",
       "      <th></th>\n",
       "      <th>Site-YearCode</th>\n",
       "      <th>Transect</th>\n",
       "      <th>Point</th>\n",
       "      <th>Height</th>\n",
       "      <th>Species</th>\n",
       "      <th>Plant code</th>\n",
       "      <th>Native Status</th>\n",
       "      <th>Life History</th>\n",
       "      <th>Stature</th>\n",
       "    </tr>\n",
       "  </thead>\n",
       "  <tbody>\n",
       "    <tr>\n",
       "      <th>0</th>\n",
       "      <td>NUWO-2012</td>\n",
       "      <td>5</td>\n",
       "      <td>90</td>\n",
       "      <td>Low</td>\n",
       "      <td>-</td>\n",
       "      <td>-</td>\n",
       "      <td>-</td>\n",
       "      <td>-</td>\n",
       "      <td>-</td>\n",
       "    </tr>\n",
       "    <tr>\n",
       "      <th>1</th>\n",
       "      <td>NUWO-2012</td>\n",
       "      <td>13</td>\n",
       "      <td>150</td>\n",
       "      <td>Low</td>\n",
       "      <td>-</td>\n",
       "      <td>-</td>\n",
       "      <td>-</td>\n",
       "      <td>-</td>\n",
       "      <td>-</td>\n",
       "    </tr>\n",
       "    <tr>\n",
       "      <th>2</th>\n",
       "      <td>NMS-2010</td>\n",
       "      <td>8</td>\n",
       "      <td>20</td>\n",
       "      <td>Low</td>\n",
       "      <td>Achillea millefolium</td>\n",
       "      <td>ACMI</td>\n",
       "      <td>Native</td>\n",
       "      <td>Perennial</td>\n",
       "      <td>Forb</td>\n",
       "    </tr>\n",
       "    <tr>\n",
       "      <th>3</th>\n",
       "      <td>NMS-2010</td>\n",
       "      <td>24</td>\n",
       "      <td>4</td>\n",
       "      <td>Low</td>\n",
       "      <td>Achillea millefolium</td>\n",
       "      <td>ACMI</td>\n",
       "      <td>Native</td>\n",
       "      <td>Perennial</td>\n",
       "      <td>Forb</td>\n",
       "    </tr>\n",
       "    <tr>\n",
       "      <th>4</th>\n",
       "      <td>NMS-2010</td>\n",
       "      <td>48</td>\n",
       "      <td>16</td>\n",
       "      <td>Low</td>\n",
       "      <td>Achillea millefolium</td>\n",
       "      <td>ACMI</td>\n",
       "      <td>Native</td>\n",
       "      <td>Perennial</td>\n",
       "      <td>Forb</td>\n",
       "    </tr>\n",
       "  </tbody>\n",
       "</table>\n",
       "</div>"
      ],
      "text/plain": [
       "  Site-YearCode  Transect  Point Height                Species Plant code  \\\n",
       "0     NUWO-2012         5     90     Low                     -          -   \n",
       "1     NUWO-2012        13    150     Low                     -          -   \n",
       "2      NMS-2010         8     20     Low  Achillea millefolium       ACMI   \n",
       "3      NMS-2010        24      4     Low  Achillea millefolium       ACMI   \n",
       "4      NMS-2010        48     16     Low  Achillea millefolium       ACMI   \n",
       "\n",
       "  Native Status Life History Stature  \n",
       "0             -            -       -  \n",
       "1             -            -       -  \n",
       "2        Native    Perennial    Forb  \n",
       "3        Native    Perennial    Forb  \n",
       "4        Native    Perennial    Forb  "
      ]
     },
     "execution_count": 3,
     "metadata": {},
     "output_type": "execute_result"
    }
   ],
   "source": [
    "df = pd.read_csv(\"landsend_veg_2007_2012.csv\")\n",
    "df.head()"
   ]
  },
  {
   "cell_type": "markdown",
   "metadata": {},
   "source": [
    "this is a wrong data point (**\"SUDO-2014\"**) according to Naomi, please delete it!"
   ]
  },
  {
   "cell_type": "code",
   "execution_count": 4,
   "metadata": {
    "collapsed": false,
    "scrolled": true
   },
   "outputs": [
    {
     "data": {
      "text/html": [
       "<div>\n",
       "<table border=\"1\" class=\"dataframe\">\n",
       "  <thead>\n",
       "    <tr style=\"text-align: right;\">\n",
       "      <th></th>\n",
       "      <th>Site-YearCode</th>\n",
       "      <th>Transect</th>\n",
       "      <th>Point</th>\n",
       "      <th>Height</th>\n",
       "      <th>Species</th>\n",
       "      <th>Plant code</th>\n",
       "      <th>Native Status</th>\n",
       "      <th>Life History</th>\n",
       "      <th>Stature</th>\n",
       "    </tr>\n",
       "  </thead>\n",
       "  <tbody>\n",
       "    <tr>\n",
       "      <th>3395</th>\n",
       "      <td>SUDO-2014</td>\n",
       "      <td>28</td>\n",
       "      <td>0</td>\n",
       "      <td>L</td>\n",
       "      <td>Ambrosia chamissonis</td>\n",
       "      <td>AMCH</td>\n",
       "      <td>x</td>\n",
       "      <td>NaN</td>\n",
       "      <td>NaN</td>\n",
       "    </tr>\n",
       "  </tbody>\n",
       "</table>\n",
       "</div>"
      ],
      "text/plain": [
       "     Site-YearCode  Transect  Point Height                Species Plant code  \\\n",
       "3395     SUDO-2014        28      0       L  Ambrosia chamissonis       AMCH   \n",
       "\n",
       "     Native Status Life History Stature  \n",
       "3395             x          NaN     NaN  "
      ]
     },
     "execution_count": 4,
     "metadata": {},
     "output_type": "execute_result"
    }
   ],
   "source": [
    "valid = df[\"Site-YearCode\"] == \"SUDO-2014\"\n",
    "df.loc[valid]"
   ]
  },
  {
   "cell_type": "markdown",
   "metadata": {},
   "source": [
    " count the frequencies of species in the data set"
   ]
  },
  {
   "cell_type": "code",
   "execution_count": 5,
   "metadata": {
    "collapsed": false,
    "scrolled": true
   },
   "outputs": [
    {
     "name": "stderr",
     "output_type": "stream",
     "text": [
      "/usr/local/lib/python3.4/dist-packages/IPython/kernel/__main__.py:4: FutureWarning: sort is deprecated, use sort_values(inplace=True) for for INPLACE sorting\n"
     ]
    }
   ],
   "source": [
    "species = df[[\"Species\"]].copy()\n",
    "species[\"counts\"] = 1\n",
    "species_freq = species.groupby(\"Species\").agg(sum).iloc[:,0].copy()\n",
    "species_freq.sort(ascending=False)"
   ]
  },
  {
   "cell_type": "code",
   "execution_count": 6,
   "metadata": {
    "collapsed": false
   },
   "outputs": [
    {
     "data": {
      "image/png": "[encoded data removed]",
      "text/plain": [
       "<matplotlib.figure.Figure at 0x7f99fb349cf8>"
      ]
     },
     "metadata": {},
     "output_type": "display_data"
    }
   ],
   "source": [
    "species_freq.plot(kind = \"bar\")\n",
    "pass"
   ]
  },
  {
   "cell_type": "markdown",
   "metadata": {},
   "source": [
    "Extract the **columns** we need (`\"Site-YearCode\"`, `\"Species\"`), and take **rows** which have no missing values (\"-\")"
   ]
  },
  {
   "cell_type": "code",
   "execution_count": 7,
   "metadata": {
    "collapsed": false
   },
   "outputs": [],
   "source": [
    "df_yr_sp = df[[\"Site-YearCode\", \"Species\"]]\n",
    "valid = ~ df_yr_sp.applymap( lambda x: x == \"-\").any(axis=1)\n",
    "df_yr_sp = df_yr_sp.loc[valid]"
   ]
  },
  {
   "cell_type": "markdown",
   "metadata": {},
   "source": [
    "split the `Site-YearCode` column into `site` and `year` columns"
   ]
  },
  {
   "cell_type": "code",
   "execution_count": 8,
   "metadata": {
    "collapsed": false
   },
   "outputs": [
    {
     "data": {
      "text/html": [
       "<div>\n",
       "<table border=\"1\" class=\"dataframe\">\n",
       "  <thead>\n",
       "    <tr style=\"text-align: right;\">\n",
       "      <th></th>\n",
       "      <th>Species</th>\n",
       "      <th>year</th>\n",
       "      <th>site</th>\n",
       "    </tr>\n",
       "  </thead>\n",
       "  <tbody>\n",
       "    <tr>\n",
       "      <th>2</th>\n",
       "      <td>Achillea millefolium</td>\n",
       "      <td>2010</td>\n",
       "      <td>NMS</td>\n",
       "    </tr>\n",
       "    <tr>\n",
       "      <th>3</th>\n",
       "      <td>Achillea millefolium</td>\n",
       "      <td>2010</td>\n",
       "      <td>NMS</td>\n",
       "    </tr>\n",
       "    <tr>\n",
       "      <th>4</th>\n",
       "      <td>Achillea millefolium</td>\n",
       "      <td>2010</td>\n",
       "      <td>NMS</td>\n",
       "    </tr>\n",
       "    <tr>\n",
       "      <th>5</th>\n",
       "      <td>Achillea millefolium</td>\n",
       "      <td>2010</td>\n",
       "      <td>NMS</td>\n",
       "    </tr>\n",
       "    <tr>\n",
       "      <th>6</th>\n",
       "      <td>Achillea millefolium</td>\n",
       "      <td>2011</td>\n",
       "      <td>NMS</td>\n",
       "    </tr>\n",
       "  </tbody>\n",
       "</table>\n",
       "</div>"
      ],
      "text/plain": [
       "                Species  year site\n",
       "2  Achillea millefolium  2010  NMS\n",
       "3  Achillea millefolium  2010  NMS\n",
       "4  Achillea millefolium  2010  NMS\n",
       "5  Achillea millefolium  2010  NMS\n",
       "6  Achillea millefolium  2011  NMS"
      ]
     },
     "execution_count": 8,
     "metadata": {},
     "output_type": "execute_result"
    }
   ],
   "source": [
    "get_year = lambda x : int(x.split(\"-\")[-1])\n",
    "df_yr_sp[\"year\"] = df_yr_sp[\"Site-YearCode\"].map( get_year )\n",
    "\n",
    "get_site = lambda x : (x.split(\"-\")[0])\n",
    "df_yr_sp[\"site\"] = df_yr_sp[\"Site-YearCode\"].map( get_site )\n",
    "\n",
    "df_yr_sp.drop(\"Site-YearCode\", axis=1, inplace = True)\n",
    "df_yr_sp.head()"
   ]
  },
  {
   "cell_type": "markdown",
   "metadata": {},
   "source": [
    "toy example: iterate over site and year groups:"
   ]
  },
  {
   "cell_type": "code",
   "execution_count": 9,
   "metadata": {
    "collapsed": false,
    "scrolled": true
   },
   "outputs": [
    {
     "name": "stdout",
     "output_type": "stream",
     "text": [
      "('EAPO', 2011) 31\n",
      "('NMS', 2010) 45\n",
      "('NMS', 2011) 35\n",
      "('NMS', 2012) 54\n",
      "('NUWO', 2010) 54\n",
      "('NUWO', 2011) 25\n",
      "('NUWO', 2012) 47\n",
      "('SUDO', 2010) 35\n",
      "('SUDO', 2011) 31\n",
      "('SUDO', 2012) 41\n",
      "('SUDO', 2013) 4\n",
      "('SUDO', 2014) 1\n",
      "('SUDU', 2008) 33\n",
      "('SUDU', 2009) 40\n"
     ]
    }
   ],
   "source": [
    "for kk, vv in df_yr_sp.groupby([\"site\", \"year\"]):\n",
    "    print(kk, vv[\"Species\"].unique().shape[0] )"
   ]
  },
  {
   "cell_type": "code",
   "execution_count": 10,
   "metadata": {
    "collapsed": false
   },
   "outputs": [
    {
     "data": {
      "text/html": [
       "<div>\n",
       "<table border=\"1\" class=\"dataframe\">\n",
       "  <thead>\n",
       "    <tr style=\"text-align: right;\">\n",
       "      <th></th>\n",
       "      <th></th>\n",
       "      <th>Species</th>\n",
       "    </tr>\n",
       "    <tr>\n",
       "      <th>site</th>\n",
       "      <th>year</th>\n",
       "      <th></th>\n",
       "    </tr>\n",
       "  </thead>\n",
       "  <tbody>\n",
       "    <tr>\n",
       "      <th>EAPO</th>\n",
       "      <th>2011</th>\n",
       "      <td>390</td>\n",
       "    </tr>\n",
       "    <tr>\n",
       "      <th rowspan=\"3\" valign=\"top\">NMS</th>\n",
       "      <th>2010</th>\n",
       "      <td>247</td>\n",
       "    </tr>\n",
       "    <tr>\n",
       "      <th>2011</th>\n",
       "      <td>175</td>\n",
       "    </tr>\n",
       "    <tr>\n",
       "      <th>2012</th>\n",
       "      <td>335</td>\n",
       "    </tr>\n",
       "    <tr>\n",
       "      <th rowspan=\"3\" valign=\"top\">NUWO</th>\n",
       "      <th>2010</th>\n",
       "      <td>320</td>\n",
       "    </tr>\n",
       "    <tr>\n",
       "      <th>2011</th>\n",
       "      <td>115</td>\n",
       "    </tr>\n",
       "    <tr>\n",
       "      <th>2012</th>\n",
       "      <td>400</td>\n",
       "    </tr>\n",
       "    <tr>\n",
       "      <th rowspan=\"5\" valign=\"top\">SUDO</th>\n",
       "      <th>2010</th>\n",
       "      <td>222</td>\n",
       "    </tr>\n",
       "    <tr>\n",
       "      <th>2011</th>\n",
       "      <td>177</td>\n",
       "    </tr>\n",
       "    <tr>\n",
       "      <th>2012</th>\n",
       "      <td>200</td>\n",
       "    </tr>\n",
       "    <tr>\n",
       "      <th>2013</th>\n",
       "      <td>5</td>\n",
       "    </tr>\n",
       "    <tr>\n",
       "      <th>2014</th>\n",
       "      <td>1</td>\n",
       "    </tr>\n",
       "    <tr>\n",
       "      <th rowspan=\"2\" valign=\"top\">SUDU</th>\n",
       "      <th>2008</th>\n",
       "      <td>498</td>\n",
       "    </tr>\n",
       "    <tr>\n",
       "      <th>2009</th>\n",
       "      <td>505</td>\n",
       "    </tr>\n",
       "  </tbody>\n",
       "</table>\n",
       "</div>"
      ],
      "text/plain": [
       "           Species\n",
       "site year         \n",
       "EAPO 2011      390\n",
       "NMS  2010      247\n",
       "     2011      175\n",
       "     2012      335\n",
       "NUWO 2010      320\n",
       "     2011      115\n",
       "     2012      400\n",
       "SUDO 2010      222\n",
       "     2011      177\n",
       "     2012      200\n",
       "     2013        5\n",
       "     2014        1\n",
       "SUDU 2008      498\n",
       "     2009      505"
      ]
     },
     "execution_count": 10,
     "metadata": {},
     "output_type": "execute_result"
    }
   ],
   "source": [
    "df_yr_sp.groupby([\"site\", \"year\"]).agg(\"count\")"
   ]
  }
 ],
 "metadata": {
  "kernelspec": {
   "display_name": "Python 3",
   "language": "python",
   "name": "python3"
  },
  "language_info": {
   "codemirror_mode": {
    "name": "ipython",
    "version": 3
   },
   "file_extension": ".py",
   "mimetype": "text/x-python",
   "name": "python",
   "nbconvert_exporter": "python",
   "pygments_lexer": "ipython3",
   "version": "3.4.3"
  }
 },
 "nbformat": 4,
 "nbformat_minor": 0
}
